{
 "cells": [
  {
   "cell_type": "code",
   "execution_count": null,
   "id": "7c74f77b",
   "metadata": {},
   "outputs": [],
   "source": [
    "#importing required and necessary libraries\n",
    "import numpy as np # used to perform mathematical operation on array\n",
    "import pandas as pd # used for data manipulation\n",
    "import matplotlib.pyplot as plt;\n",
    "import seaborn as sns\n",
    "%matplotlib inline\n",
    "# Set the maximum number of rows and columns to display\n",
    "pd.set_option('display.max_rows', None)\n",
    "pd.set_option('display.max_columns', None)\n",
    "import warnings\n",
    "warnings.filterwarnings(\"ignore\")"
   ]
  },
  {
   "cell_type": "code",
   "execution_count": null,
   "id": "285bc892",
   "metadata": {},
   "outputs": [],
   "source": [
    "data_2014 = pd.read_csv('2014_Financial_Data.csv')\n",
    "data_2015 = pd.read_csv('2015_Financial_Data.csv')\n",
    "data_2016 = pd.read_csv('2016_Financial_Data.csv')\n",
    "data_2017 = pd.read_csv('2017_Financial_Data.csv')\n",
    "data_2018 = pd.read_csv('2018_Financial_Data.csv')"
   ]
  },
  {
   "cell_type": "code",
   "execution_count": null,
   "id": "fcec4eb1",
   "metadata": {},
   "outputs": [],
   "source": [
    "data_2014 = data_2014.rename(columns={\"2015 PRICE VAR [%]\": \"PRICE VAR [%]\"})\n",
    "data_2015 = data_2015.rename(columns={\"2016 PRICE VAR [%]\": \"PRICE VAR [%]\"})\n",
    "data_2016 = data_2016.rename(columns={\"2017 PRICE VAR [%]\": \"PRICE VAR [%]\"})\n",
    "data_2017 = data_2017.rename(columns={\"2018 PRICE VAR [%]\": \"PRICE VAR [%]\"})\n",
    "data_2018 = data_2018.rename(columns={\"2019 PRICE VAR [%]\": \"PRICE VAR [%]\"})"
   ]
  },
  {
   "cell_type": "code",
   "execution_count": null,
   "id": "cbd6369a",
   "metadata": {},
   "outputs": [],
   "source": [
    "fd = pd.concat([data_2014, data_2015, data_2016, data_2017, data_2018],axis=0)\n",
    "fd.to_csv(\"aa.csv\")\n",
    "fd = pd.read_csv(\"aa.csv\")"
   ]
  },
  {
   "cell_type": "code",
   "execution_count": null,
   "id": "3a5910b4",
   "metadata": {},
   "outputs": [],
   "source": [
    "fd = fd.rename(columns={fd.columns[1]: \"Symbols\"})\n"
   ]
  },
  {
   "cell_type": "code",
   "execution_count": null,
   "id": "af14fb1c",
   "metadata": {},
   "outputs": [],
   "source": [
    "#Checking the first 5 rows of the train data\n",
    "fd.head()"
   ]
  },
  {
   "cell_type": "code",
   "execution_count": null,
   "id": "ab96bfe3",
   "metadata": {},
   "outputs": [],
   "source": [
    "#fd.to_csv('2.csv')\n",
    "#fd1=pd.read_csv(\"2.csv\")"
   ]
  },
  {
   "cell_type": "code",
   "execution_count": null,
   "id": "7f59821d",
   "metadata": {},
   "outputs": [],
   "source": [
    "# Define the target column\n",
    "target_column = 'Class'\n",
    "\n",
    "# Loop through each column in the dataframe\n",
    "for column in fd.columns:\n",
    "\n",
    "    # Skip the target column and non-numeric columns\n",
    "    if column == target_column or not pd.api.types.is_numeric_dtype(fd[column]):\n",
    "        continue\n",
    "\n",
    "    # Plot the distribution of the column\n",
    "    sns.histplot(data=fd, x=column, hue=target_column, kde=True)\n",
    "    \n",
    "    # Compute the correlation between the column and the target\n",
    "    correlation = fd[column].corr(fd[target_column])\n",
    "    \n",
    "    # Print the correlation\n",
    "    print(f'{column} correlation with {target_column}: {correlation:.3f}')\n"
   ]
  },
  {
   "cell_type": "code",
   "execution_count": null,
   "id": "3871122d",
   "metadata": {},
   "outputs": [],
   "source": []
  }
 ],
 "metadata": {
  "kernelspec": {
   "display_name": "Python 3 (ipykernel)",
   "language": "python",
   "name": "python3"
  },
  "language_info": {
   "codemirror_mode": {
    "name": "ipython",
    "version": 3
   },
   "file_extension": ".py",
   "mimetype": "text/x-python",
   "name": "python",
   "nbconvert_exporter": "python",
   "pygments_lexer": "ipython3",
   "version": "3.9.7"
  }
 },
 "nbformat": 4,
 "nbformat_minor": 5
}
